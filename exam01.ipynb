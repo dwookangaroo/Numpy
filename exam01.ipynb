{
 "cells": [
  {
   "cell_type": "code",
   "execution_count": 1,
   "id": "48ca1736",
   "metadata": {},
   "outputs": [],
   "source": [
    "u = [2,2]\n",
    "v = [1,2]\n",
    "z = [-3,5]"
   ]
  },
  {
   "cell_type": "code",
   "execution_count": 13,
   "id": "8833c690",
   "metadata": {},
   "outputs": [],
   "source": [
    "result = []"
   ]
  },
  {
   "cell_type": "code",
   "execution_count": 14,
   "id": "adfd8d4f",
   "metadata": {},
   "outputs": [],
   "source": [
    "for i in range(len(u)):\n",
    "    result.append(u[i]+v[i]+z[i])    \n"
   ]
  },
  {
   "cell_type": "code",
   "execution_count": 15,
   "id": "68947888",
   "metadata": {},
   "outputs": [
    {
     "name": "stdout",
     "output_type": "stream",
     "text": [
      "[0, 9]\n"
     ]
    }
   ],
   "source": [
    "print(result)"
   ]
  },
  {
   "cell_type": "code",
   "execution_count": 8,
   "id": "4ad3447a",
   "metadata": {},
   "outputs": [
    {
     "name": "stdout",
     "output_type": "stream",
     "text": [
      "[0, 9]\n"
     ]
    }
   ],
   "source": [
    "result =[sum(t) for t in zip(u,v,z)]\n",
    "print(result)"
   ]
  },
  {
   "cell_type": "code",
   "execution_count": 1,
   "id": "85228de8",
   "metadata": {},
   "outputs": [],
   "source": [
    "import numpy as np"
   ]
  },
  {
   "cell_type": "code",
   "execution_count": 2,
   "id": "a425e9f2",
   "metadata": {},
   "outputs": [],
   "source": [
    "nu = np.array([2,2])\n",
    "nv = np.array([1,2])\n",
    "nz = np.array([-3,5])"
   ]
  },
  {
   "cell_type": "code",
   "execution_count": 3,
   "id": "3382e31e",
   "metadata": {},
   "outputs": [
    {
     "name": "stdout",
     "output_type": "stream",
     "text": [
      "[0 9]\n"
     ]
    }
   ],
   "source": [
    "sum = nu + nv + nz\n",
    "print(sum)"
   ]
  },
  {
   "cell_type": "code",
   "execution_count": 4,
   "id": "e5009d3f",
   "metadata": {},
   "outputs": [],
   "source": [
    "u = [1,2,3]\n",
    "v = [4,3,3]\n",
    "alpha = 2"
   ]
  },
  {
   "cell_type": "code",
   "execution_count": 8,
   "id": "82417926",
   "metadata": {},
   "outputs": [],
   "source": [
    "del sum"
   ]
  },
  {
   "cell_type": "code",
   "execution_count": 9,
   "id": "a69852a4",
   "metadata": {},
   "outputs": [
    {
     "name": "stdout",
     "output_type": "stream",
     "text": [
      "[10, 10, 12]\n"
     ]
    }
   ],
   "source": [
    "result = [alpha * sum(t) for t in zip(u,v)]\n",
    "print(result)"
   ]
  },
  {
   "cell_type": "code",
   "execution_count": 13,
   "id": "abf2bf45",
   "metadata": {},
   "outputs": [
    {
     "name": "stdout",
     "output_type": "stream",
     "text": [
      "[10 10 12]\n"
     ]
    }
   ],
   "source": [
    "nu = np.array([1,2,3])\n",
    "nv = np.array([4,3,3])\n",
    "alpha = 2\n",
    "result = alpha*(nu+nv)\n",
    "print(result)"
   ]
  },
  {
   "cell_type": "code",
   "execution_count": 23,
   "id": "2c94152f",
   "metadata": {},
   "outputs": [],
   "source": [
    "matrix_a =[[3,6],[4,5]]\n",
    "matrix_b = [[5,8],[6,7]]\n"
   ]
  },
  {
   "cell_type": "code",
   "execution_count": 25,
   "id": "18cdef4f",
   "metadata": {},
   "outputs": [
    {
     "name": "stdout",
     "output_type": "stream",
     "text": [
      "[[8, 14], [10, 12]]\n"
     ]
    }
   ],
   "source": [
    "result = [[sum(row) for row in zip(*t)] for t in zip(matrix_a, matrix_b)]\n",
    "print(result)"
   ]
  },
  {
   "cell_type": "code",
   "execution_count": 27,
   "id": "48843329",
   "metadata": {},
   "outputs": [
    {
     "name": "stdout",
     "output_type": "stream",
     "text": [
      "[[ 8 14]\n",
      " [10 12]]\n"
     ]
    }
   ],
   "source": [
    "ma = np.array([[3,6],[4,5]])\n",
    "mb = np.array([[5,8],[6,7]])\n",
    "\n",
    "result = ma + mb\n",
    "print(result)"
   ]
  },
  {
   "cell_type": "code",
   "execution_count": 59,
   "id": "7a0e35d1",
   "metadata": {},
   "outputs": [],
   "source": [
    "# a = [[1,2,3], [4,5,6]]\n",
    "# a_t = [[1,4], [2,5], [3,6]] \n",
    "\n",
    "matrix_a = [[1,2,3],[4,5,6]]\n",
    "\n",
    "\n",
    "#matrix_a_t = tuple(zip(matrix_a[0],matrix_a[1]))\n",
    "#matrix_a_t = tuple(zip(matrix_a[i] for i in len(matrix_a)))\n",
    "#print(matrix_a_t)\n",
    "\n",
    "#matrix_a[i] for i in len(matrix_a)"
   ]
  },
  {
   "cell_type": "code",
   "execution_count": 61,
   "id": "9b21eccc",
   "metadata": {},
   "outputs": [
    {
     "name": "stdout",
     "output_type": "stream",
     "text": [
      "[[1, 4], [2, 5], [3, 6]]\n"
     ]
    }
   ],
   "source": [
    "result = [[element for element in t] for t in zip(*matrix_a)]\n",
    "print(result)"
   ]
  },
  {
   "cell_type": "code",
   "execution_count": 62,
   "id": "2c523c6d",
   "metadata": {},
   "outputs": [
    {
     "name": "stdout",
     "output_type": "stream",
     "text": [
      "[[1 4]\n",
      " [2 5]\n",
      " [3 6]]\n",
      "[[1 4]\n",
      " [2 5]\n",
      " [3 6]]\n"
     ]
    }
   ],
   "source": [
    "matrix_a = np.array([[1,2,3], [4,5,6]])\n",
    "matrix_a_t = matrix_a.T\n",
    "matrix_a_t2 = np.transpose(matrix_a)\n",
    "print(matrix_a_t)\n",
    "print(matrix_a_t2)"
   ]
  }
 ],
 "metadata": {
  "kernelspec": {
   "display_name": "Python 3",
   "language": "python",
   "name": "python3"
  },
  "language_info": {
   "codemirror_mode": {
    "name": "ipython",
    "version": 3
   },
   "file_extension": ".py",
   "mimetype": "text/x-python",
   "name": "python",
   "nbconvert_exporter": "python",
   "pygments_lexer": "ipython3",
   "version": "3.8.8"
  }
 },
 "nbformat": 4,
 "nbformat_minor": 5
}
